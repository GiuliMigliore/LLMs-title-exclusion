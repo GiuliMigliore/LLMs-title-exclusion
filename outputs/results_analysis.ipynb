{
 "cells": [
  {
   "cell_type": "code",
   "execution_count": 1,
   "metadata": {},
   "outputs": [],
   "source": [
    "# Import necessary libraries\n",
    "import pandas as pd"
   ]
  },
  {
   "cell_type": "code",
   "execution_count": 2,
   "metadata": {},
   "outputs": [
    {
     "data": {
      "text/html": [
       "<div>\n",
       "<style scoped>\n",
       "    .dataframe tbody tr th:only-of-type {\n",
       "        vertical-align: middle;\n",
       "    }\n",
       "\n",
       "    .dataframe tbody tr th {\n",
       "        vertical-align: top;\n",
       "    }\n",
       "\n",
       "    .dataframe thead th {\n",
       "        text-align: right;\n",
       "    }\n",
       "</style>\n",
       "<table border=\"1\" class=\"dataframe\">\n",
       "  <thead>\n",
       "    <tr style=\"text-align: right;\">\n",
       "      <th></th>\n",
       "      <th>Recall</th>\n",
       "      <th>FN</th>\n",
       "      <th>TN</th>\n",
       "      <th>Compared with</th>\n",
       "    </tr>\n",
       "  </thead>\n",
       "  <tbody>\n",
       "    <tr>\n",
       "      <th>Random Classifier</th>\n",
       "      <td>0.5180</td>\n",
       "      <td>67</td>\n",
       "      <td>86</td>\n",
       "      <td>human titles labels</td>\n",
       "    </tr>\n",
       "    <tr>\n",
       "      <th>Logistic Regression</th>\n",
       "      <td>0.9928</td>\n",
       "      <td>1</td>\n",
       "      <td>60</td>\n",
       "      <td>human titles labels</td>\n",
       "    </tr>\n",
       "    <tr>\n",
       "      <th>Random Forest</th>\n",
       "      <td>0.9281</td>\n",
       "      <td>10</td>\n",
       "      <td>93</td>\n",
       "      <td>human titles labels</td>\n",
       "    </tr>\n",
       "    <tr>\n",
       "      <th>Naive Bayes</th>\n",
       "      <td>1.0000</td>\n",
       "      <td>0</td>\n",
       "      <td>37</td>\n",
       "      <td>human titles labels</td>\n",
       "    </tr>\n",
       "    <tr>\n",
       "      <th>Support Vector Machine</th>\n",
       "      <td>1.0000</td>\n",
       "      <td>0</td>\n",
       "      <td>57</td>\n",
       "      <td>human titles labels</td>\n",
       "    </tr>\n",
       "    <tr>\n",
       "      <th>Llama3:8b (prompt 17)</th>\n",
       "      <td>1.0000</td>\n",
       "      <td>0</td>\n",
       "      <td>16</td>\n",
       "      <td>human titles labels</td>\n",
       "    </tr>\n",
       "    <tr>\n",
       "      <th>Llama3:8b (prompt 3.1)</th>\n",
       "      <td>0.8889</td>\n",
       "      <td>1</td>\n",
       "      <td>182</td>\n",
       "      <td>human abstracts labels</td>\n",
       "    </tr>\n",
       "  </tbody>\n",
       "</table>\n",
       "</div>"
      ],
      "text/plain": [
       "                        Recall  FN   TN           Compared with\n",
       "Random Classifier       0.5180  67   86     human titles labels\n",
       "Logistic Regression     0.9928   1   60     human titles labels\n",
       "Random Forest           0.9281  10   93     human titles labels\n",
       "Naive Bayes             1.0000   0   37     human titles labels\n",
       "Support Vector Machine  1.0000   0   57     human titles labels\n",
       "Llama3:8b (prompt 17)   1.0000   0   16     human titles labels\n",
       "Llama3:8b (prompt 3.1)  0.8889   1  182  human abstracts labels"
      ]
     },
     "execution_count": 2,
     "metadata": {},
     "output_type": "execute_result"
    }
   ],
   "source": [
    "# Create a list of all the models' outputs from the \"compare_models.ipynb\" script\n",
    "outputs = [\n",
    "    {\"Recall\":  0.5180, \"FN\": 67, \"TN\": 86, \"Compared with\": \"human titles labels\"},\n",
    "    {\"Recall\":  0.9928, \"FN\": 1, \"TN\": 60, \"Compared with\": \"human titles labels\"},\n",
    "    {\"Recall\":  0.9281, \"FN\": 10, \"TN\": 93, \"Compared with\": \"human titles labels\"},\n",
    "    {\"Recall\":  1.0000, \"FN\": 0, \"TN\": 37, \"Compared with\": \"human titles labels\"},\n",
    "    {\"Recall\":  1.0000, \"FN\": 0, \"TN\": 57, \"Compared with\": \"human titles labels\"},\n",
    "    {\"Recall\":  1.0000, \"FN\": 0, \"TN\": 16, \"Compared with\": \"human titles labels\"},\n",
    "    {\"Recall\":  0.8889, \"FN\": 1, \"TN\": 182, \"Compared with\": \"human abstracts labels\"}\n",
    "]\n",
    "\n",
    "# Create the dataset containing the results\n",
    "performances = pd.DataFrame(outputs, \n",
    "                            index=pd.Index([\n",
    "                                \"Random Classifier\", \"Logistic Regression\", \"Random Forest\", \"Naive Bayes\", \"Support Vector Machine\", \"Llama3:8b (prompt 17)\", \"Llama3:8b (prompt 3.1)\"\n",
    "                                ]))\n",
    "performances"
   ]
  },
  {
   "cell_type": "code",
   "execution_count": 3,
   "metadata": {},
   "outputs": [],
   "source": [
    "performances.to_csv(\"Models_performances.csv\")"
   ]
  }
 ],
 "metadata": {
  "kernelspec": {
   "display_name": "Python 3",
   "language": "python",
   "name": "python3"
  },
  "language_info": {
   "codemirror_mode": {
    "name": "ipython",
    "version": 3
   },
   "file_extension": ".py",
   "mimetype": "text/x-python",
   "name": "python",
   "nbconvert_exporter": "python",
   "pygments_lexer": "ipython3",
   "version": "3.12.2"
  }
 },
 "nbformat": 4,
 "nbformat_minor": 2
}
